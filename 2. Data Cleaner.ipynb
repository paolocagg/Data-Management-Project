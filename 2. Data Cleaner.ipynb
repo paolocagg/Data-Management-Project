{
 "cells": [
  {
   "cell_type": "code",
   "execution_count": 1,
   "id": "7c7e4dde",
   "metadata": {},
   "outputs": [],
   "source": [
    "from pymongo import MongoClient\n",
    "import json\n",
    "import re\n",
    "import pandas as pd"
   ]
  },
  {
   "cell_type": "code",
   "execution_count": 2,
   "id": "28e470a2",
   "metadata": {},
   "outputs": [],
   "source": [
    "client = MongoClient('localhost', 27017)"
   ]
  },
  {
   "cell_type": "code",
   "execution_count": 3,
   "id": "4109427f",
   "metadata": {},
   "outputs": [],
   "source": [
    "db = client['Project2']"
   ]
  },
  {
   "cell_type": "markdown",
   "id": "369b316f",
   "metadata": {},
   "source": [
    "# Steam Cleaning"
   ]
  },
  {
   "cell_type": "code",
   "execution_count": 4,
   "id": "f9a6145c",
   "metadata": {},
   "outputs": [],
   "source": [
    "games = db.Steam"
   ]
  },
  {
   "cell_type": "code",
   "execution_count": 5,
   "id": "d310258e",
   "metadata": {},
   "outputs": [
    {
     "data": {
      "text/plain": [
       "5209"
      ]
     },
     "execution_count": 5,
     "metadata": {},
     "output_type": "execute_result"
    }
   ],
   "source": [
    "# count documents\n",
    "games.count_documents({})"
   ]
  },
  {
   "cell_type": "code",
   "execution_count": 4,
   "id": "dfdbfc50",
   "metadata": {},
   "outputs": [],
   "source": [
    "# build dictionary for roman numbers\n",
    "# We romove \"i\" as it is often used as in english it means \"io\"\n",
    "trans = {'ii':2, 'iii': 3, 'iv': 4, 'v': 5, 'vi':6, 'vii':7, 'viii':8, 'ix':9, 'x': 10,\n",
    "         'xi': 11, 'xii': 12, 'xiii': 13, 'xiv':14, 'xv':15, 'xvi':16, 'xvii':17, 'xviii':18, 'xix':19, 'xx':20,\n",
    "        'xxi':21, 'xxii':22, 'xxiii':23, 'xxiv':24, 'xxv':25, 'xxvi':26, 'xxvii':27, 'xxviii':28, 'xxix':29, 'xxx':30}"
   ]
  },
  {
   "cell_type": "code",
   "execution_count": 7,
   "id": "553f0bba",
   "metadata": {},
   "outputs": [],
   "source": [
    "for game in games.find():\n",
    "    # add an attribute \"normTitle\" where the title is set to lowercase and is without punctuation\n",
    "    normTitle = game['title']\n",
    "    # remove punctuation and turn to lowercase\n",
    "    normTitle = re.sub(r'[^\\w\\s]', \"\" , normTitle.lower())\n",
    "    # remove \"_\" from title. eg: \"watch_dogs\"\n",
    "    normTitle = re.sub(\"_\", \" \", normTitle)\n",
    "    # remove \"ea sports\"\n",
    "    normTitle = re.sub(\"ea sports \", \"\", normTitle)\n",
    "    # remove all double spaces\n",
    "    normTitle = re.sub(\"  \", \" \", normTitle)\n",
    "    # make sure there are no spaces at the beggining or the end of the title\n",
    "    normTitle = normTitle.strip()\n",
    "    # create an array of the words contained in the title\n",
    "    splitTitle = normTitle.split(\" \")\n",
    "    # loop through the world of the title\n",
    "    for j in range(len(splitTitle)):\n",
    "        word = splitTitle[j]\n",
    "        # if the word is a roman number, turn it to arabic\n",
    "        if word in trans:\n",
    "            normTitle = (' '.join(splitTitle[:j]) + ' ' + str(trans[word]) + ' ' + ' '.join(splitTitle[j+1:])).strip()\n",
    "    games.update_one({'_id': game['_id']}, {'$set' : {'normTitle': normTitle}})"
   ]
  },
  {
   "cell_type": "code",
   "execution_count": 9,
   "id": "25bd51ad",
   "metadata": {},
   "outputs": [],
   "source": [
    "# Normalize release date\n",
    "for game in games.find():\n",
    "    date = game['relDate']\n",
    "    today = pd.to_datetime('2022-12-20')\n",
    "    date = pd.to_datetime(date)\n",
    "    # eliminate records where  the release date is after today (not yet released)\n",
    "    if date > today:\n",
    "        games.delete_one({'_id': game['_id']})\n",
    "    else:\n",
    "        try:\n",
    "            date = date.strftime('%Y-%m-%d')\n",
    "            games.update_one({'_id': game['_id']}, {'$set' : {'relDate': date}})\n",
    "        except:\n",
    "            continue"
   ]
  },
  {
   "cell_type": "code",
   "execution_count": null,
   "id": "9b453770",
   "metadata": {},
   "outputs": [],
   "source": [
    "# normalize prices\n",
    "for game in games.find():\n",
    "    price = game['price']\n",
    "    # If the game is Free to Play, set the price to 0\n",
    "    if price in [\"Free-to-Play\", \"Free To Play\", \"Free to Play\", \"Gratis\", \"\"]:\n",
    "        price = \"0\"\n",
    "    # Remove the € symbol\n",
    "    if price[-1] == \"€\":\n",
    "        price = price[:-1]\n",
    "    # Some prices have two \"--\" after the point (eg: 13.--). Remove them.\n",
    "    if price[-1] == \"-\":\n",
    "        price = price[:-3]\n",
    "    # Update the price\n",
    "    games.update_one({'_id': game['_id']}, {'$set' : {'price': price}})"
   ]
  },
  {
   "cell_type": "code",
   "execution_count": 7,
   "id": "3afa624b",
   "metadata": {},
   "outputs": [],
   "source": [
    "# turn to dataframe\n",
    "data = pd.json_normalize(games.find())"
   ]
  },
  {
   "cell_type": "code",
   "execution_count": 8,
   "id": "40b6fb0d",
   "metadata": {},
   "outputs": [
    {
     "data": {
      "text/plain": [
       "<pymongo.results.DeleteResult at 0x1fd8b6feac0>"
      ]
     },
     "execution_count": 8,
     "metadata": {},
     "output_type": "execute_result"
    }
   ],
   "source": [
    "# remove duplicates based on SN\n",
    "games.delete_many( { '_id': {'$in': list(data[data.duplicated('SN')]['_id'])}})"
   ]
  },
  {
   "cell_type": "code",
   "execution_count": 13,
   "id": "54869653",
   "metadata": {},
   "outputs": [
    {
     "data": {
      "text/plain": [
       "<pymongo.results.DeleteResult at 0x1cf69299ee0>"
      ]
     },
     "execution_count": 13,
     "metadata": {},
     "output_type": "execute_result"
    }
   ],
   "source": [
    "# remove all games that have the attribute \"todrop\"=True\n",
    "games.delete_many({'toDrop': True})"
   ]
  },
  {
   "cell_type": "code",
   "execution_count": 14,
   "id": "49770145",
   "metadata": {},
   "outputs": [
    {
     "data": {
      "text/plain": [
       "<pymongo.results.DeleteResult at 0x1cf6603bc10>"
      ]
     },
     "execution_count": 14,
     "metadata": {},
     "output_type": "execute_result"
    }
   ],
   "source": [
    "# remove games with \"coming soon\" release date\n",
    "games.delete_many({'relDate': 'Coming soon'})"
   ]
  },
  {
   "cell_type": "code",
   "execution_count": 15,
   "id": "fd299a93",
   "metadata": {},
   "outputs": [
    {
     "data": {
      "text/plain": [
       "5243"
      ]
     },
     "execution_count": 15,
     "metadata": {},
     "output_type": "execute_result"
    }
   ],
   "source": [
    "# count documents\n",
    "games.count_documents({})"
   ]
  },
  {
   "cell_type": "code",
   "execution_count": 16,
   "id": "f29abd75",
   "metadata": {},
   "outputs": [],
   "source": [
    "# update dataframe\n",
    "data = pd.json_normalize(games.find())"
   ]
  },
  {
   "cell_type": "code",
   "execution_count": 17,
   "id": "5ae82d15",
   "metadata": {},
   "outputs": [],
   "source": [
    "# remove all games with \"bundle\" inside the title\n",
    "# bundle: a collection of different games\n",
    "for game in games.find():\n",
    "    if \"bundle\" in game['normTitle']:\n",
    "        games.delete_one({'_id': game['_id']})"
   ]
  },
  {
   "cell_type": "code",
   "execution_count": 18,
   "id": "1ea759ac",
   "metadata": {},
   "outputs": [
    {
     "data": {
      "text/plain": [
       "5227"
      ]
     },
     "execution_count": 18,
     "metadata": {},
     "output_type": "execute_result"
    }
   ],
   "source": [
    "# count documents\n",
    "games.count_documents({})"
   ]
  },
  {
   "cell_type": "code",
   "execution_count": 19,
   "id": "307401c0",
   "metadata": {},
   "outputs": [],
   "source": [
    "# create a second normTitle without edition and expansion keywords\n",
    "for game in games.find():\n",
    "    normTitle2 = game['normTitle']\n",
    "    normTitle2 = re.sub(\"deluxe edition\", \"\", normTitle2)\n",
    "    normTitle2 = re.sub(\"enhanced edition\", \"\", normTitle2)\n",
    "    normTitle2 = re.sub(\"definitive edition\", \"\", normTitle2)\n",
    "    normTitle2 = re.sub(\"complete edition\", \"\", normTitle2)\n",
    "    normTitle2 = re.sub(\"gold edition\", \"\", normTitle2)\n",
    "    normTitle2 = re.sub(\"game of the year edition\", \"\", normTitle2)\n",
    "    normTitle2 = re.sub(\"goty edition\", \"\", normTitle2)\n",
    "    normTitle2 = re.sub(\"season pass edition\", \"\", normTitle2)\n",
    "    normTitle2 = re.sub(\"special edition\", \"\", normTitle2)\n",
    "    normTitle2 = re.sub(\"anniversary edition\", \"\", normTitle2)\n",
    "    normTitle2 = re.sub(\"expansion\", \"\", normTitle2)\n",
    "    normTitle2 = re.sub(\"pack\", \"\", normTitle2)\n",
    "    # remove double spaces and spaces at the beginning and at the end of the title\n",
    "    normTitle2 = re.sub(\"  \", \" \", normTitle2)\n",
    "    normTitle2 = normTitle2.strip()\n",
    "    # if the title contains this words\n",
    "    if normTitle2 != game['normTitle']:\n",
    "        # if the title without the keywords already exists we delete it\n",
    "        if normTitle2 in list(data['normTitle']):\n",
    "            games.delete_one({'_id': game['_id']})\n",
    "        # if it doesn't, we save normTitle2 to the document, as it can be useful when merging\n",
    "        else:\n",
    "            games.update_one({'_id': game['_id']}, {'$set' : {'normTitle2': normTitle2}})"
   ]
  },
  {
   "cell_type": "code",
   "execution_count": 20,
   "id": "216319ea",
   "metadata": {},
   "outputs": [
    {
     "data": {
      "text/plain": [
       "5209"
      ]
     },
     "execution_count": 20,
     "metadata": {},
     "output_type": "execute_result"
    }
   ],
   "source": [
    "games.count_documents({})"
   ]
  },
  {
   "cell_type": "markdown",
   "id": "81210959",
   "metadata": {},
   "source": [
    "# MetacriticPC Cleaning"
   ]
  },
  {
   "cell_type": "code",
   "execution_count": 9,
   "id": "a5ba2a90",
   "metadata": {},
   "outputs": [],
   "source": [
    "reviews = db.metacriticPc"
   ]
  },
  {
   "cell_type": "code",
   "execution_count": 10,
   "id": "d0278f26",
   "metadata": {},
   "outputs": [
    {
     "data": {
      "text/plain": [
       "78456"
      ]
     },
     "execution_count": 10,
     "metadata": {},
     "output_type": "execute_result"
    }
   ],
   "source": [
    "reviews.count_documents({})"
   ]
  },
  {
   "cell_type": "markdown",
   "id": "6c24a0bf",
   "metadata": {},
   "source": [
    "### Remove duplicates"
   ]
  },
  {
   "cell_type": "code",
   "execution_count": 17,
   "id": "8539ca10",
   "metadata": {},
   "outputs": [],
   "source": [
    "# turn to dataframe\n",
    "data = pd.json_normalize(reviews.find())"
   ]
  },
  {
   "cell_type": "code",
   "execution_count": 18,
   "id": "f2f1dcd7",
   "metadata": {},
   "outputs": [],
   "source": [
    "# group by title\n",
    "group = data.groupby('normTitle').count()"
   ]
  },
  {
   "cell_type": "code",
   "execution_count": 19,
   "id": "084ebc0c",
   "metadata": {},
   "outputs": [],
   "source": [
    "# get the titles of the games that appear more than once\n",
    "dupl = list(group[group['_id'] > 1].index)"
   ]
  },
  {
   "cell_type": "code",
   "execution_count": 20,
   "id": "d3b78331",
   "metadata": {},
   "outputs": [
    {
     "data": {
      "text/plain": [
       "320"
      ]
     },
     "execution_count": 20,
     "metadata": {},
     "output_type": "execute_result"
    }
   ],
   "source": [
    "# there are 89 duplicates\n",
    "len(dupl)"
   ]
  },
  {
   "cell_type": "code",
   "execution_count": 21,
   "id": "6ac365d7",
   "metadata": {},
   "outputs": [],
   "source": [
    "# remove the first of the two duplicate\n",
    "# We do this because the two records are always equal except for the release date. We want to keep the oldest of the two.\n",
    "for el in dupl:\n",
    "    objId = list(data[data['normTitle'] == el]['_id'])[:-1]\n",
    "    for i in objId:\n",
    "        reviews.delete_one({'_id': i})"
   ]
  },
  {
   "cell_type": "code",
   "execution_count": 22,
   "id": "b2d695ed",
   "metadata": {},
   "outputs": [
    {
     "data": {
      "text/plain": [
       "78130"
      ]
     },
     "execution_count": 22,
     "metadata": {},
     "output_type": "execute_result"
    }
   ],
   "source": [
    "reviews.count_documents({})"
   ]
  },
  {
   "cell_type": "code",
   "execution_count": 45,
   "id": "15dc753a",
   "metadata": {},
   "outputs": [],
   "source": [
    "# add normTitle (same code as above)\n",
    "for review in reviews.find():\n",
    "    normTitle = review['title']\n",
    "    normTitle = re.sub(r'[^\\w\\s]', \"\" , normTitle.lower())\n",
    "    normTitle = re.sub(\"_\", \" \", normTitle)\n",
    "    normTitle = re.sub(\"ea sports \", \"\", normTitle)\n",
    "    normTitle = re.sub(\"  \", \" \", normTitle)\n",
    "    normTitle = normTitle.strip()\n",
    "    splitTitle = normTitle.split(\" \")\n",
    "    for j in range(len(splitTitle)):\n",
    "        word = splitTitle[j]\n",
    "        if word in trans:\n",
    "            normTitle = (' '.join(splitTitle[:j]) + ' ' + str(trans[word]) + ' ' + ' '.join(splitTitle[j+1:])).strip()\n",
    "    reviews.update_one({'_id': review['_id']}, {'$set' : {'normTitle': normTitle}})"
   ]
  },
  {
   "cell_type": "code",
   "execution_count": 46,
   "id": "c8deb55c",
   "metadata": {},
   "outputs": [],
   "source": [
    "# Normalize release date\n",
    "for review in reviews.find():\n",
    "    date = review['relDate']\n",
    "    date = pd.to_datetime(date)\n",
    "    try:\n",
    "        date = date.strftime('%Y-%m-%d')\n",
    "        reviews.update_one({'_id': review['_id']}, {'$set' : {'relDate': date}})\n",
    "    except:\n",
    "        continue"
   ]
  },
  {
   "cell_type": "markdown",
   "id": "61c88a8f",
   "metadata": {},
   "source": [
    "# MetacriticALL Cleaning"
   ]
  },
  {
   "cell_type": "code",
   "execution_count": 23,
   "id": "21ff321a",
   "metadata": {},
   "outputs": [],
   "source": [
    "reviews = db.metacriticAll"
   ]
  },
  {
   "cell_type": "code",
   "execution_count": 24,
   "id": "910a6ca2",
   "metadata": {
    "scrolled": true
   },
   "outputs": [
    {
     "data": {
      "text/plain": [
       "26662"
      ]
     },
     "execution_count": 24,
     "metadata": {},
     "output_type": "execute_result"
    }
   ],
   "source": [
    "reviews.count_documents({})"
   ]
  },
  {
   "cell_type": "markdown",
   "id": "86dbc973",
   "metadata": {},
   "source": [
    "As the page with all the review contains reviews of the same game in different platforms, we are going to use as proxy of the pc review of a game the mean of the review of the same game in all the others platforms.\n",
    "To do this, we group by title and calculate the review mean.\n",
    "\n",
    "For what regards the release date, instead, we use the min of all the release dates."
   ]
  },
  {
   "cell_type": "code",
   "execution_count": 25,
   "id": "991c259e",
   "metadata": {},
   "outputs": [],
   "source": [
    "# turn to dataframe\n",
    "data = pd.json_normalize(reviews.find())"
   ]
  },
  {
   "cell_type": "code",
   "execution_count": 52,
   "id": "70b3810c",
   "metadata": {},
   "outputs": [],
   "source": [
    "# create a subset with only the games that have a score\n",
    "dataSub = data[data['score'] != 'tbd']"
   ]
  },
  {
   "cell_type": "code",
   "execution_count": 53,
   "id": "092a1ff0",
   "metadata": {},
   "outputs": [],
   "source": [
    "# turn the score column to integer\n",
    "dataSub = dataSub.astype({'score':'int'})"
   ]
  },
  {
   "cell_type": "code",
   "execution_count": 54,
   "id": "624a7b53",
   "metadata": {},
   "outputs": [],
   "source": [
    "# convert relDate column to datetime object\n",
    "dataSub['relDate'] = pd.to_datetime(dataSub['relDate'])"
   ]
  },
  {
   "cell_type": "code",
   "execution_count": 55,
   "id": "bdc65652",
   "metadata": {},
   "outputs": [],
   "source": [
    "# groupby title and calculate the mean of the scores\n",
    "data1 = dataSub.groupby('title').mean('score')"
   ]
  },
  {
   "cell_type": "code",
   "execution_count": 56,
   "id": "bc7765cb",
   "metadata": {},
   "outputs": [],
   "source": [
    "# groupby title and calculate the min of the relDate\n",
    "data2 = dataSub.groupby('title').min()['relDate']"
   ]
  },
  {
   "cell_type": "code",
   "execution_count": 57,
   "id": "a22f6169",
   "metadata": {},
   "outputs": [],
   "source": [
    "# merge the 2 dataframes togheter\n",
    "dataSub = pd.merge(data1, data2, on='title')"
   ]
  },
  {
   "cell_type": "code",
   "execution_count": 58,
   "id": "81f8aba5",
   "metadata": {},
   "outputs": [],
   "source": [
    "# bring back the title to the columns\n",
    "dataSub['title'] = dataSub.index\n",
    "# reorder the columns\n",
    "dataSub = dataSub[['title', 'score', 'relDate']]"
   ]
  },
  {
   "cell_type": "code",
   "execution_count": 59,
   "id": "60d59d07",
   "metadata": {},
   "outputs": [],
   "source": [
    "gameWScore = list(dataSub['title'])"
   ]
  },
  {
   "cell_type": "code",
   "execution_count": 60,
   "id": "27131309",
   "metadata": {},
   "outputs": [],
   "source": [
    "# drop a game without a score, if it is already present in the subset with score\n",
    "dataSub2 = []\n",
    "for game in reviews.find():\n",
    "    if game['score'] != 'tbd':\n",
    "        continue\n",
    "    if game['title'] in gameWScore:\n",
    "        continue\n",
    "    dataSub2.append(game)"
   ]
  },
  {
   "cell_type": "code",
   "execution_count": 61,
   "id": "d5b80526",
   "metadata": {},
   "outputs": [],
   "source": [
    "# turn to dataframe\n",
    "dataSub2 = pd.json_normalize(dataSub2)"
   ]
  },
  {
   "cell_type": "code",
   "execution_count": 62,
   "id": "2582c08e",
   "metadata": {},
   "outputs": [],
   "source": [
    "# convert relDate column to datetime object\n",
    "dataSub2['relDate'] = pd.to_datetime(dataSub2['relDate'])"
   ]
  },
  {
   "cell_type": "code",
   "execution_count": 63,
   "id": "6a79b24a",
   "metadata": {},
   "outputs": [],
   "source": [
    "# eliminate the duplicates inside the second subset\n",
    "dataSub2 = pd.DataFrame(dataSub2.groupby('title').min()['relDate'])"
   ]
  },
  {
   "cell_type": "code",
   "execution_count": 64,
   "id": "3efa32af",
   "metadata": {},
   "outputs": [],
   "source": [
    "dataSub2['title'] = dataSub2.index\n",
    "dataSub2['score'] = 'tbd'\n",
    "dataSub2 = dataSub2[['title', 'score', 'relDate']]"
   ]
  },
  {
   "cell_type": "code",
   "execution_count": 66,
   "id": "eedc722a",
   "metadata": {},
   "outputs": [],
   "source": [
    "data = pd.concat([dataSub, dataSub2])"
   ]
  },
  {
   "cell_type": "code",
   "execution_count": 70,
   "id": "3814fce9",
   "metadata": {},
   "outputs": [],
   "source": [
    "# normalize the date column\n",
    "data['relDate'] = data['relDate'].dt.strftime('%Y-%m-%d')"
   ]
  },
  {
   "cell_type": "code",
   "execution_count": 71,
   "id": "263c560b",
   "metadata": {},
   "outputs": [],
   "source": [
    "# turn back into a dictionary\n",
    "newReviews = data.to_dict(orient='records')"
   ]
  },
  {
   "cell_type": "code",
   "execution_count": 72,
   "id": "284276b8",
   "metadata": {},
   "outputs": [],
   "source": [
    "# add normTitle\n",
    "for review in newReviews:\n",
    "    normTitle = review['title']\n",
    "    normTitle = re.sub(r'[^\\w\\s]', \"\" , normTitle.lower())\n",
    "    normTitle = re.sub(\"_\", \" \", normTitle)\n",
    "    normTitle = re.sub(\"ea sports \", \"\", normTitle)\n",
    "    normTitle = re.sub(\"  \", \" \", normTitle)\n",
    "    normTitle = normTitle.strip()\n",
    "    splitTitle = normTitle.split(\" \")\n",
    "    for j in range(len(splitTitle)):\n",
    "        word = splitTitle[j]\n",
    "        if word in trans:\n",
    "            normTitle = (' '.join(splitTitle[:j]) + ' ' + str(trans[word]) + ' ' + ' '.join(splitTitle[j+1:])).strip()\n",
    "    review['normTitle'] = normTitle"
   ]
  },
  {
   "cell_type": "code",
   "execution_count": null,
   "id": "0e4212b6",
   "metadata": {},
   "outputs": [],
   "source": [
    "# turn to dataframe\n",
    "data = pd.json_normalize(newReviews)"
   ]
  },
  {
   "cell_type": "code",
   "execution_count": 30,
   "id": "6ebc72fe",
   "metadata": {},
   "outputs": [],
   "source": [
    "# remove duplicates based on normTitle\n",
    "data = data[~data.duplicated(subset='normTitle', keep='last')]"
   ]
  },
  {
   "cell_type": "code",
   "execution_count": 31,
   "id": "54d15577",
   "metadata": {},
   "outputs": [],
   "source": [
    "# turn back into a dictionary\n",
    "newReviews = data.to_dict(orient='records')"
   ]
  },
  {
   "cell_type": "code",
   "execution_count": 34,
   "id": "827a349f",
   "metadata": {},
   "outputs": [],
   "source": [
    "# drop the entire collection\n",
    "reviews.drop()"
   ]
  },
  {
   "cell_type": "code",
   "execution_count": 35,
   "id": "d691657b",
   "metadata": {},
   "outputs": [
    {
     "data": {
      "text/plain": [
       "<pymongo.results.InsertManyResult at 0x1fd8b70d5e0>"
      ]
     },
     "execution_count": 35,
     "metadata": {},
     "output_type": "execute_result"
    }
   ],
   "source": [
    "# and replace it with the cleaned one\n",
    "metaAll = db.metacriticAll\n",
    "metaAll.insert_many(newReviews)"
   ]
  }
 ],
 "metadata": {
  "kernelspec": {
   "display_name": "Python 3 (ipykernel)",
   "language": "python",
   "name": "python3"
  },
  "language_info": {
   "codemirror_mode": {
    "name": "ipython",
    "version": 3
   },
   "file_extension": ".py",
   "mimetype": "text/x-python",
   "name": "python",
   "nbconvert_exporter": "python",
   "pygments_lexer": "ipython3",
   "version": "3.9.13"
  }
 },
 "nbformat": 4,
 "nbformat_minor": 5
}
