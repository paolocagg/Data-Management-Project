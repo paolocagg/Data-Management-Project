{
 "cells": [
  {
   "cell_type": "code",
   "execution_count": 1,
   "id": "7e9d3563",
   "metadata": {},
   "outputs": [],
   "source": [
    "from pymongo import MongoClient\n",
    "import json\n",
    "import re\n",
    "import pandas as pd"
   ]
  },
  {
   "cell_type": "code",
   "execution_count": 2,
   "id": "4ce2a208",
   "metadata": {},
   "outputs": [],
   "source": [
    "# connect to mongodb\n",
    "client = MongoClient('localhost', 27017)\n",
    "db = client['Project2']"
   ]
  },
  {
   "cell_type": "markdown",
   "id": "67e1fdb9",
   "metadata": {},
   "source": [
    "# Import all data"
   ]
  },
  {
   "cell_type": "code",
   "execution_count": 3,
   "id": "68683ad3",
   "metadata": {},
   "outputs": [],
   "source": [
    "games = pd.json_normalize(db.Steam.find())"
   ]
  },
  {
   "cell_type": "code",
   "execution_count": 4,
   "id": "a5002008",
   "metadata": {},
   "outputs": [
    {
     "data": {
      "text/plain": [
       "5209"
      ]
     },
     "execution_count": 4,
     "metadata": {},
     "output_type": "execute_result"
    }
   ],
   "source": [
    "len(games)"
   ]
  },
  {
   "cell_type": "code",
   "execution_count": 5,
   "id": "2b7c6b9b",
   "metadata": {},
   "outputs": [],
   "source": [
    "reviewsPc = pd.json_normalize(db.metacriticPc.find())"
   ]
  },
  {
   "cell_type": "code",
   "execution_count": 6,
   "id": "8ce81334",
   "metadata": {},
   "outputs": [
    {
     "data": {
      "text/plain": [
       "78130"
      ]
     },
     "execution_count": 6,
     "metadata": {},
     "output_type": "execute_result"
    }
   ],
   "source": [
    "len(reviewsPc)"
   ]
  },
  {
   "cell_type": "code",
   "execution_count": 7,
   "id": "465f31bf",
   "metadata": {},
   "outputs": [],
   "source": [
    "reviewsAll = pd.json_normalize(db.metacriticAll.find())"
   ]
  },
  {
   "cell_type": "code",
   "execution_count": 8,
   "id": "de2fbf6a",
   "metadata": {},
   "outputs": [
    {
     "data": {
      "text/plain": [
       "26432"
      ]
     },
     "execution_count": 8,
     "metadata": {},
     "output_type": "execute_result"
    }
   ],
   "source": [
    "len(reviewsAll)"
   ]
  },
  {
   "cell_type": "markdown",
   "id": "9b8ce3c4",
   "metadata": {},
   "source": [
    "# First merge\n",
    "**games** with **metacriticPC** on *normTitle*"
   ]
  },
  {
   "cell_type": "code",
   "execution_count": 9,
   "id": "94a15279",
   "metadata": {},
   "outputs": [],
   "source": [
    "merged = pd.merge(games, reviewsPc[['normTitle','score']], on='normTitle', how='left')"
   ]
  },
  {
   "cell_type": "code",
   "execution_count": 10,
   "id": "a76c73a0",
   "metadata": {},
   "outputs": [
    {
     "data": {
      "text/plain": [
       "5209"
      ]
     },
     "execution_count": 10,
     "metadata": {},
     "output_type": "execute_result"
    }
   ],
   "source": [
    "len(merged)"
   ]
  },
  {
   "cell_type": "markdown",
   "id": "762e4ebd",
   "metadata": {},
   "source": [
    "# Second merge\n",
    "**games** with **metacriticPC** on *normTitle2*"
   ]
  },
  {
   "cell_type": "code",
   "execution_count": 11,
   "id": "156090ed",
   "metadata": {},
   "outputs": [],
   "source": [
    "merged = pd.merge(merged, reviewsPc[['normTitle','score']], left_on='normTitle2', right_on='normTitle', how='left')"
   ]
  },
  {
   "cell_type": "code",
   "execution_count": 12,
   "id": "82af012a",
   "metadata": {},
   "outputs": [],
   "source": [
    "merged = merged.drop('normTitle_y', axis=1)"
   ]
  },
  {
   "cell_type": "code",
   "execution_count": 13,
   "id": "b3a97e14",
   "metadata": {},
   "outputs": [],
   "source": [
    "merged = merged.rename({'normTitle_x': 'normTitle', 'score_x':'scorePc1', 'score_y': 'scorePc2'}, axis='columns')"
   ]
  },
  {
   "cell_type": "markdown",
   "id": "32d92329",
   "metadata": {},
   "source": [
    "# Third merge\n",
    "**games** with **metacriticALL** on *normTitle*"
   ]
  },
  {
   "cell_type": "code",
   "execution_count": 15,
   "id": "42cfbff3",
   "metadata": {},
   "outputs": [],
   "source": [
    "merged = pd.merge(merged, reviewsAll[['normTitle','score']], on = 'normTitle', how='left')"
   ]
  },
  {
   "cell_type": "code",
   "execution_count": 16,
   "id": "fe483475",
   "metadata": {},
   "outputs": [],
   "source": [
    "merged = merged.rename({'score': 'scoreAll1'}, axis='columns')"
   ]
  },
  {
   "cell_type": "code",
   "execution_count": 17,
   "id": "bc53c589",
   "metadata": {},
   "outputs": [
    {
     "data": {
      "text/plain": [
       "5209"
      ]
     },
     "execution_count": 17,
     "metadata": {},
     "output_type": "execute_result"
    }
   ],
   "source": [
    "len(merged)"
   ]
  },
  {
   "cell_type": "markdown",
   "id": "baa95201",
   "metadata": {},
   "source": [
    "# Fourth merge\n",
    "**games** with **metacriticALL* on *normTitle2*"
   ]
  },
  {
   "cell_type": "code",
   "execution_count": 18,
   "id": "58c082ff",
   "metadata": {},
   "outputs": [],
   "source": [
    "merged = pd.merge(merged, reviewsAll[['normTitle','score']], left_on = 'normTitle2', right_on='normTitle', how='left')"
   ]
  },
  {
   "cell_type": "code",
   "execution_count": 19,
   "id": "359322a2",
   "metadata": {},
   "outputs": [],
   "source": [
    "merged = merged.drop('normTitle_y', axis=1)"
   ]
  },
  {
   "cell_type": "code",
   "execution_count": 20,
   "id": "e6481cc1",
   "metadata": {},
   "outputs": [],
   "source": [
    "merged = merged.rename({'normTitle_x': 'normTitle', 'score': 'scoreAll2'}, axis='columns')"
   ]
  },
  {
   "cell_type": "code",
   "execution_count": 21,
   "id": "f938a4d0",
   "metadata": {},
   "outputs": [
    {
     "data": {
      "text/plain": [
       "5209"
      ]
     },
     "execution_count": 21,
     "metadata": {},
     "output_type": "execute_result"
    }
   ],
   "source": [
    "len(merged)"
   ]
  },
  {
   "cell_type": "markdown",
   "id": "9098d80f",
   "metadata": {},
   "source": [
    "# Review"
   ]
  },
  {
   "cell_type": "markdown",
   "id": "6d36068c",
   "metadata": {},
   "source": [
    "## First Merge"
   ]
  },
  {
   "cell_type": "markdown",
   "id": "3a5e3f68",
   "metadata": {},
   "source": [
    "With the first merge, we merged **4275** games"
   ]
  },
  {
   "cell_type": "code",
   "execution_count": 22,
   "id": "b3ea9d3e",
   "metadata": {},
   "outputs": [
    {
     "data": {
      "text/plain": [
       "4275"
      ]
     },
     "execution_count": 22,
     "metadata": {},
     "output_type": "execute_result"
    }
   ],
   "source": [
    "subM = merged[merged['scorePc1'].notnull()]\n",
    "len(subM)"
   ]
  },
  {
   "cell_type": "markdown",
   "id": "58bf55c1",
   "metadata": {},
   "source": [
    "Of this 4275, **2744** have a score"
   ]
  },
  {
   "cell_type": "code",
   "execution_count": 23,
   "id": "af06e829",
   "metadata": {},
   "outputs": [],
   "source": [
    "ss = pd.concat([merged[merged['scorePc1'] == 'tbd'], merged[merged['scorePc1'].isnull()]])"
   ]
  },
  {
   "cell_type": "code",
   "execution_count": 24,
   "id": "55127b7e",
   "metadata": {},
   "outputs": [
    {
     "data": {
      "text/plain": [
       "2744"
      ]
     },
     "execution_count": 24,
     "metadata": {},
     "output_type": "execute_result"
    }
   ],
   "source": [
    "5209-len(ss)"
   ]
  },
  {
   "cell_type": "markdown",
   "id": "0e571972",
   "metadata": {},
   "source": [
    "## Second Merge"
   ]
  },
  {
   "cell_type": "markdown",
   "id": "9b0acfbd",
   "metadata": {},
   "source": [
    "Using *normTitle2*, we merged **50** games"
   ]
  },
  {
   "cell_type": "code",
   "execution_count": 25,
   "id": "0a73981e",
   "metadata": {},
   "outputs": [
    {
     "data": {
      "text/plain": [
       "50"
      ]
     },
     "execution_count": 25,
     "metadata": {},
     "output_type": "execute_result"
    }
   ],
   "source": [
    "set2 = set(merged[merged['scorePc2'].notnull()]['_id'])\n",
    "len(set2)"
   ]
  },
  {
   "cell_type": "markdown",
   "id": "e1e7dfb4",
   "metadata": {},
   "source": [
    "Of this 50, **21** are new games"
   ]
  },
  {
   "cell_type": "code",
   "execution_count": 26,
   "id": "a8fadfa5",
   "metadata": {},
   "outputs": [
    {
     "data": {
      "text/plain": [
       "21"
      ]
     },
     "execution_count": 26,
     "metadata": {},
     "output_type": "execute_result"
    }
   ],
   "source": [
    "set1 = set(subM['_id'])\n",
    "setD =set2 - set1\n",
    "len(setD)"
   ]
  },
  {
   "cell_type": "markdown",
   "id": "6d23e571",
   "metadata": {},
   "source": [
    "Thanks to the second merge, we have **31** new games with a review score"
   ]
  },
  {
   "cell_type": "code",
   "execution_count": 27,
   "id": "a7544e07",
   "metadata": {},
   "outputs": [],
   "source": [
    "ss = pd.concat([ss[ss['scorePc2'] == 'tbd'], ss[ss['scorePc2'].isnull()]])"
   ]
  },
  {
   "cell_type": "code",
   "execution_count": 28,
   "id": "aba0b728",
   "metadata": {},
   "outputs": [
    {
     "data": {
      "text/plain": [
       "31"
      ]
     },
     "execution_count": 28,
     "metadata": {},
     "output_type": "execute_result"
    }
   ],
   "source": [
    "5209 - len(ss) - 2744"
   ]
  },
  {
   "cell_type": "markdown",
   "id": "ad808f44",
   "metadata": {},
   "source": [
    "## Third Merge"
   ]
  },
  {
   "cell_type": "markdown",
   "id": "40d0e0cb",
   "metadata": {},
   "source": [
    "Merging with the reviews taken from all the other platform, we merged **2161** games"
   ]
  },
  {
   "cell_type": "code",
   "execution_count": 29,
   "id": "b7ffcfe9",
   "metadata": {},
   "outputs": [
    {
     "data": {
      "text/plain": [
       "2161"
      ]
     },
     "execution_count": 29,
     "metadata": {},
     "output_type": "execute_result"
    }
   ],
   "source": [
    "set3 = set(merged[merged['scoreAll1'].notnull()]['_id'])\n",
    "len(set3)"
   ]
  },
  {
   "cell_type": "markdown",
   "id": "8a6a54ac",
   "metadata": {},
   "source": [
    "Of this 2161, **93** are new games"
   ]
  },
  {
   "cell_type": "code",
   "execution_count": 30,
   "id": "2a061713",
   "metadata": {},
   "outputs": [],
   "source": [
    "set12 = set1.union(set2)"
   ]
  },
  {
   "cell_type": "code",
   "execution_count": 31,
   "id": "ac427938",
   "metadata": {},
   "outputs": [
    {
     "data": {
      "text/plain": [
       "93"
      ]
     },
     "execution_count": 31,
     "metadata": {},
     "output_type": "execute_result"
    }
   ],
   "source": [
    "len(set3 - set12)"
   ]
  },
  {
   "cell_type": "markdown",
   "id": "a3efce3a",
   "metadata": {},
   "source": [
    "Thanks to the third merge, we have **334** new games with a review score"
   ]
  },
  {
   "cell_type": "code",
   "execution_count": 32,
   "id": "88bd842d",
   "metadata": {},
   "outputs": [],
   "source": [
    "ss = pd.concat([ss[ss['scoreAll1'] == 'tbd'], ss[ss['scoreAll1'].isnull()]])"
   ]
  },
  {
   "cell_type": "code",
   "execution_count": 33,
   "id": "87991514",
   "metadata": {},
   "outputs": [
    {
     "data": {
      "text/plain": [
       "334"
      ]
     },
     "execution_count": 33,
     "metadata": {},
     "output_type": "execute_result"
    }
   ],
   "source": [
    "5209 - len(ss) - 2744 - 31"
   ]
  },
  {
   "cell_type": "markdown",
   "id": "efd8ee6d",
   "metadata": {},
   "source": [
    "## Fourth Merge"
   ]
  },
  {
   "cell_type": "markdown",
   "id": "eb7b295f",
   "metadata": {},
   "source": [
    "Merging with the reviews taken from all the other platform and using *normTitle2*, we merged **32** games"
   ]
  },
  {
   "cell_type": "code",
   "execution_count": 34,
   "id": "380996cf",
   "metadata": {},
   "outputs": [
    {
     "data": {
      "text/plain": [
       "32"
      ]
     },
     "execution_count": 34,
     "metadata": {},
     "output_type": "execute_result"
    }
   ],
   "source": [
    "set4 = set(merged[merged['scoreAll2'].notnull()]['_id'])\n",
    "len(set4)"
   ]
  },
  {
   "cell_type": "markdown",
   "id": "922f1346",
   "metadata": {},
   "source": [
    "Of this 32, **3** are new games"
   ]
  },
  {
   "cell_type": "code",
   "execution_count": 35,
   "id": "9ec63cd8",
   "metadata": {},
   "outputs": [
    {
     "data": {
      "text/plain": [
       "3"
      ]
     },
     "execution_count": 35,
     "metadata": {},
     "output_type": "execute_result"
    }
   ],
   "source": [
    "set123 = set12.union(set3)\n",
    "len(set4 - set123)"
   ]
  },
  {
   "cell_type": "markdown",
   "id": "00d8eab7",
   "metadata": {},
   "source": [
    "Thanks to the fourth merge, we have **4** new games with a review score."
   ]
  },
  {
   "cell_type": "code",
   "execution_count": 36,
   "id": "d8ef4815",
   "metadata": {},
   "outputs": [],
   "source": [
    "ss = pd.concat([ss[ss['scoreAll2'] == 'tbd'], ss[ss['scoreAll2'].isnull()]])"
   ]
  },
  {
   "cell_type": "code",
   "execution_count": 37,
   "id": "64d9f892",
   "metadata": {},
   "outputs": [
    {
     "data": {
      "text/plain": [
       "4"
      ]
     },
     "execution_count": 37,
     "metadata": {},
     "output_type": "execute_result"
    }
   ],
   "source": [
    "5209 - len(ss) - 2744 - 31 - 334"
   ]
  },
  {
   "cell_type": "markdown",
   "id": "59ac5f65",
   "metadata": {},
   "source": [
    "## In Conclusion"
   ]
  },
  {
   "cell_type": "code",
   "execution_count": 38,
   "id": "c0d7847c",
   "metadata": {},
   "outputs": [],
   "source": [
    "# turn dataframe into dictionary\n",
    "mDict = merged.to_dict(orient='records')"
   ]
  },
  {
   "cell_type": "code",
   "execution_count": 39,
   "id": "c55095a8",
   "metadata": {},
   "outputs": [
    {
     "data": {
      "text/plain": [
       "True"
      ]
     },
     "execution_count": 39,
     "metadata": {},
     "output_type": "execute_result"
    }
   ],
   "source": [
    "pd.notnull(mDict[0]['scorePc1'])"
   ]
  },
  {
   "cell_type": "code",
   "execution_count": 40,
   "id": "9dc48f83",
   "metadata": {},
   "outputs": [],
   "source": [
    "for game in mDict:\n",
    "    for col in ['scorePc1', 'scorePc2', 'scoreAll1', 'scoreAll2']:\n",
    "        if pd.notnull(game[col]):\n",
    "            game['merged'] = True\n",
    "            break\n",
    "    else:\n",
    "        game['merged'] = False"
   ]
  },
  {
   "cell_type": "code",
   "execution_count": 41,
   "id": "4cd12617",
   "metadata": {},
   "outputs": [],
   "source": [
    "for game in mDict:\n",
    "    for col in ['scorePc2', 'scoreAll1', 'scoreAll2']:\n",
    "        if pd.isnull(game['scorePc1']) or game['scorePc1'] == 'tbd':\n",
    "            game['scorePc1'] = game[col]"
   ]
  },
  {
   "cell_type": "code",
   "execution_count": 47,
   "id": "31a051e6",
   "metadata": {},
   "outputs": [],
   "source": [
    "final = pd.json_normalize(mDict).drop(['scorePc2', 'scoreAll1', 'scoreAll2'], axis= 1)"
   ]
  },
  {
   "cell_type": "code",
   "execution_count": 48,
   "id": "64718927",
   "metadata": {},
   "outputs": [],
   "source": [
    "final = final[final['merged'] == True]"
   ]
  },
  {
   "cell_type": "code",
   "execution_count": 49,
   "id": "e6c15756",
   "metadata": {},
   "outputs": [],
   "source": [
    "final = final.drop('merged', axis=1)"
   ]
  },
  {
   "cell_type": "markdown",
   "id": "f960b173",
   "metadata": {},
   "source": [
    "We have been able to merge **4392** games"
   ]
  },
  {
   "cell_type": "code",
   "execution_count": 50,
   "id": "444dadc4",
   "metadata": {},
   "outputs": [
    {
     "data": {
      "text/plain": [
       "4392"
      ]
     },
     "execution_count": 50,
     "metadata": {},
     "output_type": "execute_result"
    }
   ],
   "source": [
    "len(final)"
   ]
  },
  {
   "cell_type": "markdown",
   "id": "03e01bee",
   "metadata": {},
   "source": [
    "Of this 4392 games, **3113** have a review on metacritic"
   ]
  },
  {
   "cell_type": "code",
   "execution_count": 51,
   "id": "b4d65e18",
   "metadata": {},
   "outputs": [],
   "source": [
    "final = final[pd.notnull(final['scorePc1'])]"
   ]
  },
  {
   "cell_type": "code",
   "execution_count": 52,
   "id": "38f8ac35",
   "metadata": {},
   "outputs": [
    {
     "data": {
      "text/plain": [
       "3113"
      ]
     },
     "execution_count": 52,
     "metadata": {},
     "output_type": "execute_result"
    }
   ],
   "source": [
    "len(final)"
   ]
  },
  {
   "cell_type": "markdown",
   "id": "f5a25e3c",
   "metadata": {},
   "source": [
    "# Upload to MongoDB"
   ]
  },
  {
   "cell_type": "code",
   "execution_count": 114,
   "id": "d1d37179",
   "metadata": {},
   "outputs": [],
   "source": [
    "# create new collection\n",
    "GameRev = db.GameReviews"
   ]
  },
  {
   "cell_type": "code",
   "execution_count": 113,
   "id": "dafa26f1",
   "metadata": {},
   "outputs": [
    {
     "data": {
      "text/html": [
       "<div>\n",
       "<style scoped>\n",
       "    .dataframe tbody tr th:only-of-type {\n",
       "        vertical-align: middle;\n",
       "    }\n",
       "\n",
       "    .dataframe tbody tr th {\n",
       "        vertical-align: top;\n",
       "    }\n",
       "\n",
       "    .dataframe thead th {\n",
       "        text-align: right;\n",
       "    }\n",
       "</style>\n",
       "<table border=\"1\" class=\"dataframe\">\n",
       "  <thead>\n",
       "    <tr style=\"text-align: right;\">\n",
       "      <th></th>\n",
       "      <th>_id</th>\n",
       "      <th>rank</th>\n",
       "      <th>SN</th>\n",
       "      <th>title</th>\n",
       "      <th>relDate</th>\n",
       "      <th>price</th>\n",
       "      <th>posPercRec</th>\n",
       "      <th>totRec</th>\n",
       "      <th>posPercTot</th>\n",
       "      <th>totTot</th>\n",
       "      <th>genres</th>\n",
       "      <th>normTitle</th>\n",
       "      <th>normTitle2</th>\n",
       "      <th>scorePc1</th>\n",
       "    </tr>\n",
       "  </thead>\n",
       "  <tbody>\n",
       "    <tr>\n",
       "      <th>0</th>\n",
       "      <td>63a479b667c4b69609bddc1f</td>\n",
       "      <td>1</td>\n",
       "      <td>1938090</td>\n",
       "      <td>Call of Duty®: Modern Warfare® II</td>\n",
       "      <td>2022-10-27</td>\n",
       "      <td>69,99€</td>\n",
       "      <td>66%</td>\n",
       "      <td>57500</td>\n",
       "      <td>61%</td>\n",
       "      <td>152177</td>\n",
       "      <td>[Sparatutto in prima persona, Azione, Sparatut...</td>\n",
       "      <td>call of duty modern warfare 2</td>\n",
       "      <td>NaN</td>\n",
       "      <td>86</td>\n",
       "    </tr>\n",
       "    <tr>\n",
       "      <th>1</th>\n",
       "      <td>63a479b667c4b69609bddc20</td>\n",
       "      <td>2</td>\n",
       "      <td>730</td>\n",
       "      <td>Counter-Strike: Global Offensive</td>\n",
       "      <td>2012-08-21</td>\n",
       "      <td>Free-to-Play</td>\n",
       "      <td>89%</td>\n",
       "      <td>65349</td>\n",
       "      <td>88%</td>\n",
       "      <td>6811463</td>\n",
       "      <td>[Sparatutto in prima persona, Sparatutto, Mult...</td>\n",
       "      <td>counterstrike global offensive</td>\n",
       "      <td>NaN</td>\n",
       "      <td>83</td>\n",
       "    </tr>\n",
       "    <tr>\n",
       "      <th>2</th>\n",
       "      <td>63a479b667c4b69609bddc21</td>\n",
       "      <td>3</td>\n",
       "      <td>1811260</td>\n",
       "      <td>EA SPORTS™ FIFA 23</td>\n",
       "      <td>2022-09-29</td>\n",
       "      <td>69,99€</td>\n",
       "      <td>54%</td>\n",
       "      <td>16342</td>\n",
       "      <td>48%</td>\n",
       "      <td>38565</td>\n",
       "      <td>[Sport, Calcio, Simulatori immersivi, eSport, ...</td>\n",
       "      <td>fifa 23</td>\n",
       "      <td>NaN</td>\n",
       "      <td>77</td>\n",
       "    </tr>\n",
       "    <tr>\n",
       "      <th>3</th>\n",
       "      <td>63a479b667c4b69609bddc22</td>\n",
       "      <td>4</td>\n",
       "      <td>570</td>\n",
       "      <td>Dota 2</td>\n",
       "      <td>2013-07-09</td>\n",
       "      <td>Free-to-Play</td>\n",
       "      <td>81%</td>\n",
       "      <td>34937</td>\n",
       "      <td>82%</td>\n",
       "      <td>1897116</td>\n",
       "      <td>[Free-to-Play, MOBA, Multigiocatore, Strategia...</td>\n",
       "      <td>dota 2</td>\n",
       "      <td>NaN</td>\n",
       "      <td>90</td>\n",
       "    </tr>\n",
       "    <tr>\n",
       "      <th>4</th>\n",
       "      <td>63a479b667c4b69609bddc23</td>\n",
       "      <td>5</td>\n",
       "      <td>1172470</td>\n",
       "      <td>Apex Legends™</td>\n",
       "      <td>2020-11-04</td>\n",
       "      <td>Free-to-Play</td>\n",
       "      <td>72%</td>\n",
       "      <td>22042</td>\n",
       "      <td>84%</td>\n",
       "      <td>552941</td>\n",
       "      <td>[Free-to-Play, Multigiocatore, Battle Royale, ...</td>\n",
       "      <td>apex legends</td>\n",
       "      <td>NaN</td>\n",
       "      <td>88</td>\n",
       "    </tr>\n",
       "  </tbody>\n",
       "</table>\n",
       "</div>"
      ],
      "text/plain": [
       "                        _id  rank       SN                              title  \\\n",
       "0  63a479b667c4b69609bddc1f     1  1938090  Call of Duty®: Modern Warfare® II   \n",
       "1  63a479b667c4b69609bddc20     2      730   Counter-Strike: Global Offensive   \n",
       "2  63a479b667c4b69609bddc21     3  1811260                 EA SPORTS™ FIFA 23   \n",
       "3  63a479b667c4b69609bddc22     4      570                             Dota 2   \n",
       "4  63a479b667c4b69609bddc23     5  1172470                      Apex Legends™   \n",
       "\n",
       "      relDate         price posPercRec totRec posPercTot   totTot  \\\n",
       "0  2022-10-27        69,99€        66%  57500        61%   152177   \n",
       "1  2012-08-21  Free-to-Play        89%  65349        88%  6811463   \n",
       "2  2022-09-29        69,99€        54%  16342        48%    38565   \n",
       "3  2013-07-09  Free-to-Play        81%  34937        82%  1897116   \n",
       "4  2020-11-04  Free-to-Play        72%  22042        84%   552941   \n",
       "\n",
       "                                              genres  \\\n",
       "0  [Sparatutto in prima persona, Azione, Sparatut...   \n",
       "1  [Sparatutto in prima persona, Sparatutto, Mult...   \n",
       "2  [Sport, Calcio, Simulatori immersivi, eSport, ...   \n",
       "3  [Free-to-Play, MOBA, Multigiocatore, Strategia...   \n",
       "4  [Free-to-Play, Multigiocatore, Battle Royale, ...   \n",
       "\n",
       "                        normTitle normTitle2 scorePc1  \n",
       "0   call of duty modern warfare 2        NaN       86  \n",
       "1  counterstrike global offensive        NaN       83  \n",
       "2                         fifa 23        NaN       77  \n",
       "3                          dota 2        NaN       90  \n",
       "4                    apex legends        NaN       88  "
      ]
     },
     "execution_count": 113,
     "metadata": {},
     "output_type": "execute_result"
    }
   ],
   "source": [
    "final.head()"
   ]
  },
  {
   "cell_type": "code",
   "execution_count": 115,
   "id": "86d47b3f",
   "metadata": {},
   "outputs": [],
   "source": [
    "#turn dataframe to dictionary\n",
    "finalDict = final.to_dict(orient='records')"
   ]
  },
  {
   "cell_type": "code",
   "execution_count": 117,
   "id": "84c6725f",
   "metadata": {},
   "outputs": [],
   "source": [
    "# blend together normTitle and normTitle2\n",
    "for game in finalDict:\n",
    "    if pd.isnull(game['normTitle']):\n",
    "        game['normTitle'] = game['normTitle2']\n",
    "    game.pop('normTitle2')"
   ]
  },
  {
   "cell_type": "code",
   "execution_count": 119,
   "id": "219971ef",
   "metadata": {},
   "outputs": [
    {
     "data": {
      "text/plain": [
       "<pymongo.results.InsertManyResult at 0x19850e0cd30>"
      ]
     },
     "execution_count": 119,
     "metadata": {},
     "output_type": "execute_result"
    }
   ],
   "source": [
    "# insert documents into the collection\n",
    "GameRev.insert_many(finalDict)"
   ]
  }
 ],
 "metadata": {
  "kernelspec": {
   "display_name": "Python 3 (ipykernel)",
   "language": "python",
   "name": "python3"
  },
  "language_info": {
   "codemirror_mode": {
    "name": "ipython",
    "version": 3
   },
   "file_extension": ".py",
   "mimetype": "text/x-python",
   "name": "python",
   "nbconvert_exporter": "python",
   "pygments_lexer": "ipython3",
   "version": "3.9.13"
  }
 },
 "nbformat": 4,
 "nbformat_minor": 5
}
