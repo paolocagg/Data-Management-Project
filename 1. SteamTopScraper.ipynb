{
 "cells": [
  {
   "cell_type": "code",
   "execution_count": 1,
   "id": "2bca92ce",
   "metadata": {},
   "outputs": [],
   "source": [
    "from selenium import webdriver\n",
    "from bs4 import BeautifulSoup\n",
    "from time import sleep\n",
    "from pymongo import MongoClient\n",
    "import pandas as pd\n",
    "import json\n",
    "import re\n",
    "import requests"
   ]
  },
  {
   "cell_type": "code",
   "execution_count": 2,
   "id": "204ddef0",
   "metadata": {},
   "outputs": [],
   "source": [
    "# Connect to mongodb\n",
    "client = MongoClient('localhost', 27017)\n",
    "# Create new database\n",
    "db = client['Project']"
   ]
  },
  {
   "cell_type": "code",
   "execution_count": 15,
   "id": "fe2f0580",
   "metadata": {},
   "outputs": [],
   "source": [
    "op = webdriver.ChromeOptions()\n",
    "driver = webdriver.Chrome()"
   ]
  },
  {
   "cell_type": "markdown",
   "id": "8edfabff",
   "metadata": {},
   "source": [
    "# Scrape the top selling games page"
   ]
  },
  {
   "cell_type": "code",
   "execution_count": 16,
   "id": "3797d344",
   "metadata": {},
   "outputs": [],
   "source": [
    "# get the top selling games page\n",
    "driver.get(\"https://store.steampowered.com/search/?ignore_preferences=1&untags=493&category1=998&supportedlang=english&filter=globaltopsellers&ndl=1\")"
   ]
  },
  {
   "cell_type": "code",
   "execution_count": 17,
   "id": "4b6b42d7",
   "metadata": {},
   "outputs": [],
   "source": [
    "# Add cookies to be able to see also violent content\n",
    "driver.add_cookie({'name' : 'birthtime', 'value' : '283993201'})\n",
    "driver.add_cookie({'name' : 'mature_content', 'value': '1'})"
   ]
  },
  {
   "cell_type": "code",
   "execution_count": 7,
   "id": "265c14ba",
   "metadata": {},
   "outputs": [],
   "source": [
    "# https://stackoverflow.com/questions/20986631/how-can-i-scroll-a-web-page-using-selenium-webdriver-in-python\n",
    "\n",
    "SCROLL_PAUSE_TIME = 1\n",
    "\n",
    "# Get scroll height\n",
    "last_height = driver.execute_script(\"return document.body.scrollHeight\")\n",
    "\n",
    "while True:\n",
    "    # Scroll down to bottom\n",
    "    driver.execute_script(\"window.scrollTo(0, document.body.scrollHeight);\")\n",
    "\n",
    "    # Wait to load page\n",
    "    sleep(SCROLL_PAUSE_TIME)\n",
    "\n",
    "    # Calculate new scroll height and compare with last scroll height\n",
    "    new_height = driver.execute_script(\"return document.body.scrollHeight\")\n",
    "    if new_height == last_height:\n",
    "        break\n",
    "    last_height = new_height"
   ]
  },
  {
   "cell_type": "code",
   "execution_count": 18,
   "id": "a5ec7123",
   "metadata": {},
   "outputs": [],
   "source": [
    "soup = BeautifulSoup(driver.page_source, features=\"html.parser\")"
   ]
  },
  {
   "cell_type": "code",
   "execution_count": 19,
   "id": "0e60035f",
   "metadata": {},
   "outputs": [],
   "source": [
    "top_games = []\n",
    "rank = 1\n",
    "div = soup.find(\"div\", id=\"search_resultsRows\")\n",
    "for a in div.findAll(\"a\"):\n",
    "    game = {}\n",
    "    game['rank'] = rank\n",
    "    rank += 1\n",
    "    # append serial Number\n",
    "    game['SN'] = a['data-ds-appid']\n",
    "    # append Title\n",
    "    game['title'] = a.find(\"span\", class_=\"title\").text\n",
    "    # append release date\n",
    "    game['relDate'] = a.find(\"div\", class_=\"col search_released responsive_secondrow\").text\n",
    "    # append price\n",
    "    price = a.find(\"div\", class_=\"col search_price responsive_secondrow\")\n",
    "    if price != None:\n",
    "        game['price'] = price.text.strip()\n",
    "    else:\n",
    "        try:\n",
    "            game['price'] = a.find(\"div\", class_=\"col search_price discounted responsive_secondrow\").find(\"span\").text\n",
    "        except: game['price'] = None\n",
    "    # append dictionary to list\n",
    "    top_games.append(game)"
   ]
  },
  {
   "cell_type": "code",
   "execution_count": 20,
   "id": "4b05637a",
   "metadata": {},
   "outputs": [
    {
     "data": {
      "text/plain": [
       "5771"
      ]
     },
     "execution_count": 20,
     "metadata": {},
     "output_type": "execute_result"
    }
   ],
   "source": [
    "len(top_games)"
   ]
  },
  {
   "cell_type": "markdown",
   "id": "d486f9a3",
   "metadata": {},
   "source": [
    "# Scrape games descriptions and genres"
   ]
  },
  {
   "cell_type": "code",
   "execution_count": 11,
   "id": "7c1b10ac",
   "metadata": {},
   "outputs": [],
   "source": [
    "for game in top_games:\n",
    "    # Open the link thanks to the Serial Number\n",
    "    driver.get(\"https://store.steampowered.com/app/\" + game['SN'])\n",
    "    soup = BeautifulSoup(driver.page_source, features=\"html.parser\")\n",
    "    # If it is not a game (eg: Steam Deck) append an attribute \"toDrop\" and continue\n",
    "    if \"game_bg\" not in soup.find(\"body\")[\"class\"]:\n",
    "        game['toDrop'] = True\n",
    "        continue\n",
    "    # find the percentage of RECENT POSITIVE steam reviews\n",
    "    try:\n",
    "        text = soup.findAll(\"span\", class_=\"responsive_reviewdesc_short\")[1].text\n",
    "        # get only text inside parenthesis\n",
    "        string = re.findall(\"\\(([^)]+)\\)\", text)[0].split(\" \")\n",
    "        game['posPercRec'] = string[0]\n",
    "        # we use sub to eliminate the thousand indicator\n",
    "        game['totRec'] = re.sub(\",\",\"\", string[2])\n",
    "    except:\n",
    "        game['posPercRec'] = None\n",
    "        game['totRec'] = None\n",
    "    # find the percentage of TOTAL POSITIVE steam reviews\n",
    "    try:\n",
    "        text = soup.findAll(\"span\", class_=\"responsive_reviewdesc_short\")[0].text\n",
    "        string = re.findall(\"\\(([^)]+)\\)\", text)[0].split(\" \")\n",
    "        game['posPercTot'] = string[0]\n",
    "        game['totTot'] = re.sub(\",\",\"\", string[2])\n",
    "    except:\n",
    "        game['posPercTot'] = None\n",
    "        game['totTot'] = None\n",
    "    # find the GENRES\n",
    "    try:\n",
    "        div = soup.find(\"div\", string=\"Etichette popolari definite dagli utenti per questo prodotto:\").find_next_siblings()[0]\n",
    "        game['genres'] = []\n",
    "        for a in div.findAll(\"a\"):\n",
    "            game['genres'].append(a.text.strip())\n",
    "    except:\n",
    "        game['genres'] = [None]"
   ]
  },
  {
   "cell_type": "markdown",
   "id": "5906937a",
   "metadata": {},
   "source": [
    "# Upload to Database"
   ]
  },
  {
   "cell_type": "code",
   "execution_count": 12,
   "id": "d385f4e8",
   "metadata": {},
   "outputs": [
    {
     "data": {
      "text/plain": [
       "<pymongo.results.InsertManyResult at 0x1e157ff3940>"
      ]
     },
     "execution_count": 12,
     "metadata": {},
     "output_type": "execute_result"
    }
   ],
   "source": [
    "# Create new database collection\n",
    "Steam = db.Steam\n",
    "# upload to database\n",
    "Steam.insert_many(top_games)"
   ]
  }
 ],
 "metadata": {
  "kernelspec": {
   "display_name": "Python 3 (ipykernel)",
   "language": "python",
   "name": "python3"
  },
  "language_info": {
   "codemirror_mode": {
    "name": "ipython",
    "version": 3
   },
   "file_extension": ".py",
   "mimetype": "text/x-python",
   "name": "python",
   "nbconvert_exporter": "python",
   "pygments_lexer": "ipython3",
   "version": "3.9.13"
  }
 },
 "nbformat": 4,
 "nbformat_minor": 5
}
